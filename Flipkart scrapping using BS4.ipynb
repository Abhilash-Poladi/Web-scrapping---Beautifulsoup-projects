{
 "cells": [
  {
   "cell_type": "code",
   "execution_count": 68,
   "id": "a135a0c8",
   "metadata": {},
   "outputs": [],
   "source": [
    "import xlwt\n",
    "import requests\n",
    "import bs4\n",
    "from bs4 import BeautifulSoup\n",
    "from xlwt import Workbook\n",
    "import pandas as pd"
   ]
  },
  {
   "cell_type": "code",
   "execution_count": 69,
   "id": "621d26e5",
   "metadata": {},
   "outputs": [
    {
     "name": "stdout",
     "output_type": "stream",
     "text": [
      "27\n"
     ]
    }
   ],
   "source": [
    "r = requests.get(\"https://www.flipkart.com/search?q=mobiles&sid=tyy%2C4io&as=on&as-show=on&otracker=AS_QueryStore_OrganicAutoSuggest_1_7_na_na_na&otracker1=AS_QueryStore_OrganicAutoSuggest_1_7_na_na_na&as-pos=1&as-type=RECENT&suggestionId=mobiles%7CMobiles&requestId=e3b33172-58a4-44c5-bd2f-78907a458552&as-searchtext=mobiles&sort=popularity\")\n",
    "soup=BeautifulSoup(r.content,'html5lib')\n",
    "data=soup.find('div', class_=\"_1YokD2 _3Mn1Gg\").find_all('div',class_=\"_1AtVbE col-12-12\")\n",
    "\n",
    "wb=Workbook()\n",
    "sheet1=wb.add_sheet(\"FLIPKARTs TOP RATED SMARTPHONES\")\n",
    "sheet1.write(0,0,\"PHONE\")\n",
    "sheet1.write(0,1,\"RATING\")\n",
    "sheet1.write(0,2,\"PRICE\")\n",
    "sheet1.write(0,3,\"#OfReviews\")\n",
    "\n",
    "i=1\n",
    "for phone in data:\n",
    "    try:\n",
    "        name=phone.find('div', class_=\"_4rR01T\").text\n",
    "        rating=phone.find('div', class_=\"_3LWZlK\").text\n",
    "        price=phone.find('div', class_=\"_30jeq3 _1_WHN1\").text\n",
    "        numofreviews=phone.find('span', class_=\"_2_R_DZ\").get_text(strip=True).split('&')[0]\n",
    "        #print(name,rating,price,numofreviews)\n",
    "        sheet1.write(i,0,name)\n",
    "        sheet1.write(i,1,rating)\n",
    "        sheet1.write(i,2,price)\n",
    "        sheet1.write(i,3,numofreviews)\n",
    "       \n",
    "        #print(rating)\n",
    "    except:\n",
    "        pass\n",
    "    i+=1\n",
    "print(i)        \n",
    "wb.save('Flipkart top smartphones list.xls')\n",
    "   "
   ]
  },
  {
   "cell_type": "code",
   "execution_count": 3,
   "id": "e8610d2b",
   "metadata": {},
   "outputs": [],
   "source": []
  },
  {
   "cell_type": "code",
   "execution_count": 4,
   "id": "bf2d96fd",
   "metadata": {},
   "outputs": [],
   "source": []
  },
  {
   "cell_type": "code",
   "execution_count": null,
   "id": "2900cec5",
   "metadata": {},
   "outputs": [],
   "source": [
    "pr"
   ]
  }
 ],
 "metadata": {
  "kernelspec": {
   "display_name": "Python 3 (ipykernel)",
   "language": "python",
   "name": "python3"
  },
  "language_info": {
   "codemirror_mode": {
    "name": "ipython",
    "version": 3
   },
   "file_extension": ".py",
   "mimetype": "text/x-python",
   "name": "python",
   "nbconvert_exporter": "python",
   "pygments_lexer": "ipython3",
   "version": "3.9.7"
  }
 },
 "nbformat": 4,
 "nbformat_minor": 5
}
