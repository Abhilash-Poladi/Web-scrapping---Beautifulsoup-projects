{
 "cells": [
  {
   "cell_type": "code",
   "execution_count": 1,
   "id": "dcdf4cd0",
   "metadata": {},
   "outputs": [],
   "source": [
    "import bs4\n",
    "from bs4 import BeautifulSoup\n",
    "import requests"
   ]
  },
  {
   "cell_type": "code",
   "execution_count": 9,
   "id": "5c9edcce",
   "metadata": {},
   "outputs": [
    {
     "name": "stdout",
     "output_type": "stream",
     "text": [
      "India Reports Asia's First Possible Monkeypox Death\n",
      "Vendetta politics behind Sanjay Raut's arrest: Shiv Sena chief Uddhav Thackeray\n",
      "Parliament session Live: Naidu expunges Sitharaman’s references to Sonia Gandhi in Rajya Sabha last week\n",
      "5 Patients, 3 Staff Dead In Madhya Pradesh Hospital Fire\n",
      "NTR's daughter Uma Maheshwari found hanging in Hyderabad\n",
      "Maharashtra governor Koshyari apologises over his 'Gujarati-Rajasthani' remarks\n"
     ]
    }
   ],
   "source": [
    "r=requests.get('https://news.google.com/topstories?hl=en-IN&gl=IN&ceid=IN:en')\n",
    "soup=BeautifulSoup(r.content,'html5lib')\n",
    "\n",
    "articles=soup.find_all('h3',class_=\"ipQwMb ekueJc RD0gLb\")\n",
    "#print(articles)\n",
    "\n",
    "for article in articles:\n",
    "    try:\n",
    "        headline=article.find(\"a\").get_text(strip=True)\n",
    "        print(headline)\n",
    "    except:\n",
    "        pass\n",
    "    "
   ]
  },
  {
   "cell_type": "code",
   "execution_count": null,
   "id": "a827ee81",
   "metadata": {},
   "outputs": [],
   "source": []
  }
 ],
 "metadata": {
  "kernelspec": {
   "display_name": "Python 3 (ipykernel)",
   "language": "python",
   "name": "python3"
  },
  "language_info": {
   "codemirror_mode": {
    "name": "ipython",
    "version": 3
   },
   "file_extension": ".py",
   "mimetype": "text/x-python",
   "name": "python",
   "nbconvert_exporter": "python",
   "pygments_lexer": "ipython3",
   "version": "3.9.7"
  }
 },
 "nbformat": 4,
 "nbformat_minor": 5
}
